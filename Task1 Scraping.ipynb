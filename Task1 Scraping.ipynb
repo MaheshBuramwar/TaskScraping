{
 "cells": [
  {
   "cell_type": "code",
   "execution_count": 5,
   "metadata": {
    "colab": {
     "base_uri": "https://localhost:8080/"
    },
    "id": "r8qzo--RSR4Y",
    "outputId": "8ad6bdad-caff-4b86-be87-023f53e17fe3"
   },
   "outputs": [],
   "source": [
    "import requests\n",
    "from bs4 import BeautifulSoup\n",
    "import pandas as pd\n",
    "from datetime import datetime\n",
    "import time\n",
    "import random\n"
   ]
  },
  {
   "cell_type": "code",
   "execution_count": 6,
   "metadata": {},
   "outputs": [],
   "source": [
    "def get_page_content(url, headers, retries=3, delay=5):\n",
    "    for i in range(retries):\n",
    "        response = requests.get(url, headers=headers)\n",
    "        if response.status_code == 200:\n",
    "            return response.content\n",
    "        elif response.status_code == 503:\n",
    "            print(f\"503 Service Unavailable. Retry {i+1}/{retries} after {delay} seconds.\")\n",
    "            time.sleep(delay)\n",
    "            delay *= 2  # Exponential backoff\n",
    "        else:\n",
    "            print(f\"Failed to retrieve data: {response.status_code}\")\n",
    "            break\n",
    "    return None\n"
   ]
  },
  {
   "cell_type": "code",
   "execution_count": 7,
   "metadata": {},
   "outputs": [],
   "source": [
    "# Function to scrape data from Amazon.in\n",
    "def scrape_amazon_laptops(url):\n",
    "    headers = {\n",
    "        'User-Agent': 'Mozilla/5.0 (Windows NT 10.0; Win64; x64) AppleWebKit/537.36 (KHTML, like Gecko) Chrome/91.0.4472.124 Safari/537.36'\n",
    "    }\n",
    "\n",
    "    page_content = get_page_content(url, headers)\n",
    "    if not page_content:\n",
    "        print(\"Failed to retrieve page content.\")\n",
    "        return []\n",
    "\n",
    "    soup = BeautifulSoup(page_content, 'html.parser')\n",
    "    laptops = soup.find_all('div', {'data-component-type': 's-search-result'})\n",
    "\n",
    "    if not laptops:\n",
    "        print(\"No laptops found on the page. The structure of the page might have changed.\")\n",
    "        print(soup.prettify()[:1000])\n",
    "        return []\n",
    "\n",
    "    data = []\n",
    "\n",
    "    for laptop in laptops:\n",
    "        title_tag = laptop.h2\n",
    "        title = title_tag.text.strip() if title_tag else \"N/A\"\n",
    "\n",
    "        price_tag = laptop.find('span', 'a-price-whole')\n",
    "        price = price_tag.text.strip() if price_tag else \"N/A\"\n",
    "\n",
    "        rating_tag = laptop.find('span', {'class': 'a-icon-alt'})\n",
    "        rating = rating_tag.text.strip() if rating_tag else \"N/A\"\n",
    "\n",
    "        image_tag = laptop.find('img', {'class': 's-image'})\n",
    "        image = image_tag['src'] if image_tag else \"N/A\"\n",
    "\n",
    "        ad_tag = laptop.find('span', {'class': 's-label-popover-default'})\n",
    "        ad_or_organic = 'Ad' if ad_tag else 'Organic'\n",
    "\n",
    "        data.append({\n",
    "            'Title': title,\n",
    "            'Price': price,\n",
    "            'Rating': rating,\n",
    "            'Image': image,\n",
    "            'Ad/Organic': ad_or_organic\n",
    "        })\n",
    "\n",
    "    return data"
   ]
  },
  {
   "cell_type": "code",
   "execution_count": 8,
   "metadata": {},
   "outputs": [
    {
     "name": "stdout",
     "output_type": "stream",
     "text": [
      "503 Service Unavailable. Retry 1/3 after 5 seconds.\n",
      "Data saved to amazon_laptops_20240628_113731.csv\n"
     ]
    }
   ],
   "source": [
    "# Main function to save data to a CSV file with a timestamp\n",
    "def main():\n",
    "    url = 'https://www.amazon.in/s?k=laptop'\n",
    "    laptops_data = scrape_amazon_laptops(url)\n",
    "\n",
    "    if not laptops_data:\n",
    "        print(\"No data to save.\")\n",
    "        return\n",
    "\n",
    "    timestamp = datetime.now().strftime(\"%Y%m%d_%H%M%S\")\n",
    "    filename = f\"amazon_laptops_{timestamp}.csv\"\n",
    "\n",
    "    df = pd.DataFrame(laptops_data)\n",
    "    df.to_csv(filename, index=False)\n",
    "\n",
    "    print(f\"Data saved to {filename}\")\n",
    "\n",
    "if __name__ == \"__main__\":\n",
    "    main()\n"
   ]
  },
  {
   "cell_type": "code",
   "execution_count": null,
   "metadata": {},
   "outputs": [],
   "source": []
  }
 ],
 "metadata": {
  "colab": {
   "provenance": []
  },
  "kernelspec": {
   "display_name": "Python 3 (ipykernel)",
   "language": "python",
   "name": "python3"
  },
  "language_info": {
   "codemirror_mode": {
    "name": "ipython",
    "version": 3
   },
   "file_extension": ".py",
   "mimetype": "text/x-python",
   "name": "python",
   "nbconvert_exporter": "python",
   "pygments_lexer": "ipython3",
   "version": "3.9.13"
  }
 },
 "nbformat": 4,
 "nbformat_minor": 1
}
